{
 "cells": [
  {
   "cell_type": "code",
   "execution_count": 10,
   "id": "cc7c3679",
   "metadata": {},
   "outputs": [
    {
     "name": "stderr",
     "output_type": "stream",
     "text": [
      "/tmp/ipykernel_3632672/3902613622.py:11: FutureWarning: snewpy.models.SNOwGLoBES is moved to snewpy.models.ccsn.SNOwGLoBES\n",
      "  from snewpy.models import SNOwGLoBES\n"
     ]
    }
   ],
   "source": [
    "import astropy.units as u\n",
    "import matplotlib as mpl\n",
    "import matplotlib.pyplot as plt\n",
    "import tarfile\n",
    "import numpy as np\n",
    "%matplotlib inline\n",
    "import snewpy\n",
    "from snewpy.models.ccsn import Nakazato_2013, OConnor_2013, Bollig_2016\n",
    "from snewpy.neutrino import Flavor, MassHierarchy\n",
    "from snewpy.flavor_transformation import NoTransformation, AdiabaticMSW, ThreeFlavorDecoherence\n",
    "from snewpy.models import SNOwGLoBES\n",
    "from snewpy import snowglobes\n",
    "import os"
   ]
  },
  {
   "cell_type": "code",
   "execution_count": 2,
   "id": "b8544a42",
   "metadata": {},
   "outputs": [],
   "source": [
    "SNOwGLoBES_path = \"../../snowglobes/\"  # change to SNOwGLoBES directory if using a custom detector configuration\n",
    "SNEWPY_model_dir = \"../models/\"  # directory containing model input files"
   ]
  },
  {
   "cell_type": "code",
   "execution_count": 3,
   "id": "0b30c0c6",
   "metadata": {},
   "outputs": [],
   "source": [
    "distance = 51.4  # Supernova distance in kpc\n",
    "detector = \"kamiokande\" #SNOwGLoBES detector for water Cerenkov\n",
    "modeltype = 'Nakazato_2013' # Model type from snewpy.models\n",
    "model = 'nakazato-shen-z0.004-t_rev100ms-s20.0' # Name of model\n",
    "transformation = 'AdiabaticMSW_NMO' # Desired flavor transformation\n",
    "\n",
    "# specify sequence of time intervals, one fluence file made for each interval\n",
    "window_tstart = 0.0\n",
    "window_tend = 20.0\n",
    "window_bins = 40\n",
    "tstart = np.linspace(window_tstart, window_tend, window_bins, endpoint=False) * u.s\n",
    "tend = tstart + (window_tend - window_tstart) / window_bins * u.s\n",
    "tmid = (tstart + tend) * 0.5"
   ]
  },
  {
   "cell_type": "code",
   "execution_count": 18,
   "id": "4cb904f0",
   "metadata": {},
   "outputs": [],
   "source": [
    "# Construct file system path of model file and name of output file\n",
    "model_path = SNEWPY_model_dir + \"/\" + modeltype + \"/\" + model + '.fits'\n",
    "# model_file = \"../models/Nakazato_2013/nakazato-shen-z0.004-t_rev100ms-s20.0.fits\"\n",
    "outfile = detector + \"_\" + modeltype + \"_\" + model + \"_\" + transformation"
   ]
  },
  {
   "cell_type": "code",
   "execution_count": 3,
   "id": "48a2e723",
   "metadata": {},
   "outputs": [],
   "source": [
    "eos = 'LS220'\n",
    "mass = 20\n",
    "distance = 51.4\n",
    "detector = 'wc100kt30prct'\n",
    "modeltype = \"OConnor_2013\"\n",
    "# model_path = '../models/OConnor_2013/s20_LS220_datafiles/s20_LS220_-0.0025.dat'\n",
    "transformation = 'AdiabaticMSW_NMO'"
   ]
  },
  {
   "cell_type": "code",
   "execution_count": 4,
   "id": "57630f6f",
   "metadata": {},
   "outputs": [
    {
     "name": "stderr",
     "output_type": "stream",
     "text": [
      "/gpfs/gibbs/project/heeger/egp28/conda_envs/ROOT6/lib/python3.8/site-packages/snewpy/snowglobes.py:145: FutureWarning: Initializing this model with a filename is deprecated. Instead, use keyword arguments ['progenitor_mass', 'eos']. See `OConnor_2013.param`, `OConnor_2013.get_param_combinations()` for more info.\n",
      "  snmodel = model_class(model_path, **snmodel_dict)\n"
     ]
    }
   ],
   "source": [
    "tf = snowglobes.generate_fluence('../models/OConnor_2013/', modeltype, transformation, distance, 'test_outfile')"
   ]
  },
  {
   "cell_type": "code",
   "execution_count": 5,
   "id": "25d33950",
   "metadata": {},
   "outputs": [],
   "source": [
    "snowglobes.simulate(SNOwGLoBES_path, tf, detector_input=detector);"
   ]
  },
  {
   "cell_type": "code",
   "execution_count": 6,
   "id": "e912d6c0",
   "metadata": {},
   "outputs": [],
   "source": [
    "tables = snowglobes.collate(SNOwGLoBES_path, tf, skip_plots=True)"
   ]
  },
  {
   "cell_type": "code",
   "execution_count": 9,
   "id": "f944644c",
   "metadata": {},
   "outputs": [
    {
     "name": "stdout",
     "output_type": "stream",
     "text": [
      "ibd       : 410.552 events\n",
      "nue_O16   : 20.734 events\n",
      "nuebar_O16: 14.063 events\n",
      "nc        : 4.271 events\n",
      "e         : 10.191 events\n",
      "Total events in SuperK-like detector: 147.13959462210013\n"
     ]
    }
   ],
   "source": [
    "key = 'Collated_test_outfile_wc100kt30prct_events_smeared_weighted.dat'\n",
    "total_events = 0\n",
    "for i, channel in enumerate(tables[key]['header'].split()):\n",
    "    if i == 0:\n",
    "        continue\n",
    "    n_events = sum(tables[key]['data'][i])\n",
    "    total_events += n_events\n",
    "    print(f\"{channel:10}: {n_events:.3f} events\")\n",
    "print(\"Total events in SuperK-like detector:\", 0.32*total_events)"
   ]
  },
  {
   "cell_type": "code",
   "execution_count": 15,
   "id": "5e095d15",
   "metadata": {},
   "outputs": [
    {
     "data": {
      "text/plain": [
       "{'wc100kt30prct': {},\n",
       " 'Collated_test_outfile_wc100kt30prct_events_smeared_weighted.dat': {'header': 'Energy ibd nue_O16 nuebar_O16 nc e',\n",
       "  'data': array([[5.00000000e-01, 1.00000000e+00, 1.50000000e+00, ...,\n",
       "          9.90000000e+01, 9.95000000e+01, 1.00000000e+02],\n",
       "         [0.00000000e+00, 0.00000000e+00, 0.00000000e+00, ...,\n",
       "          9.68907694e-03, 9.09762115e-03, 8.53282581e-03],\n",
       "         [0.00000000e+00, 0.00000000e+00, 0.00000000e+00, ...,\n",
       "          2.92566886e-03, 2.65169477e-03, 2.39811150e-03],\n",
       "         [0.00000000e+00, 0.00000000e+00, 0.00000000e+00, ...,\n",
       "          1.09691610e-03, 1.00772736e-03, 9.24415748e-04],\n",
       "         [0.00000000e+00, 0.00000000e+00, 0.00000000e+00, ...,\n",
       "          0.00000000e+00, 0.00000000e+00, 0.00000000e+00],\n",
       "         [0.00000000e+00, 0.00000000e+00, 0.00000000e+00, ...,\n",
       "          1.83722916e-05, 1.67201884e-05, 1.52288089e-05]])},\n",
       " 'Collated_test_outfile_wc100kt30prct_events_unsmeared_weighted.dat': {'header': 'Energy ibd nue_O16 nuebar_O16 nc e',\n",
       "  'data': array([[5.00000000e-01, 1.00000000e+00, 1.50000000e+00, ...,\n",
       "          9.90000000e+01, 9.95000000e+01, 1.00000000e+02],\n",
       "         [0.00000000e+00, 0.00000000e+00, 0.00000000e+00, ...,\n",
       "          7.81428517e-03, 7.42064025e-03, 0.00000000e+00],\n",
       "         [0.00000000e+00, 0.00000000e+00, 0.00000000e+00, ...,\n",
       "          3.15830133e-02, 3.03757286e-02, 0.00000000e+00],\n",
       "         [0.00000000e+00, 0.00000000e+00, 0.00000000e+00, ...,\n",
       "          4.44091085e-03, 4.24793649e-03, 0.00000000e+00],\n",
       "         [0.00000000e+00, 0.00000000e+00, 0.00000000e+00, ...,\n",
       "          3.95896889e-02, 3.80811262e-02, 0.00000000e+00],\n",
       "         [9.44767962e-05, 6.43713623e-04, 1.99943357e-03, ...,\n",
       "          3.57078441e-04, 3.39285048e-04, 0.00000000e+00]])}}"
      ]
     },
     "execution_count": 15,
     "metadata": {},
     "output_type": "execute_result"
    }
   ],
   "source": [
    "tables"
   ]
  },
  {
   "cell_type": "code",
   "execution_count": null,
   "id": "1481243e",
   "metadata": {},
   "outputs": [],
   "source": [
    "tf_list = []\n",
    "for file in os.listdir('../models/OConnor_2013/s20_LS220_datafiles/'):\n",
    "#     print(file[:-4])\n",
    "    model_path = '../models/OConnor_2013/s20_LS220_datafiles/' + file\n",
    "    outfile = detector + \"_\" + transformation + \"_\" + file[:-4]\n",
    "    outpath = './s20_LS220_processed/' + outfile\n",
    "    tf = snowglobes.generate_fluence(model_path, modeltype, transformation, distance, outpath)\n",
    "    tf_list.append(tf)"
   ]
  },
  {
   "cell_type": "code",
   "execution_count": 11,
   "id": "29bb5811",
   "metadata": {},
   "outputs": [],
   "source": [
    "# tf = tarfile.open('../models/OConnor_2013/LS220_datafiles.tar.gz', 'r')\n",
    "# # dataname = dataname = 's{:d}_{}_timeseries.dat'.format(mass, eos)\n",
    "# for file in tf.getmembers():\n",
    "#     if \"s20_\" in file.name:\n",
    "#         tf.extract(file,'../models/OConnor_2013/s20_LS220_datafiles/')"
   ]
  },
  {
   "cell_type": "code",
   "execution_count": null,
   "id": "6b9e8eb1",
   "metadata": {},
   "outputs": [],
   "source": [
    "# Now, do the main work:\n",
    "print(\"Generating fluence files ...\")\n",
    "tarredfile = snowglobes.generate_fluence(model_path, modeltype, transformation, distance, outfile, tstart, tend)\n",
    "# tarredfile = snowglobes.generate_time_series(model_path, modeltype, transformation, distance, outfile)\n",
    "print(\"Simulating detector effects with SNOwGLoBES ...\")\n",
    "snowglobes.simulate(SNOwGLoBES_path, tarredfile, detector_input=detector)\n",
    "\n",
    "print(\"Collating results ...\")\n",
    "tables = snowglobes.collate(SNOwGLoBES_path, tarredfile, skip_plots=True)\n",
    "\n",
    "print(\"Finished!\")"
   ]
  },
  {
   "cell_type": "code",
   "execution_count": 4,
   "id": "86259a33",
   "metadata": {},
   "outputs": [
    {
     "name": "stdout",
     "output_type": "stream",
     "text": [
      "Simulating detector effects with SNOwGLoBES ...\n"
     ]
    },
    {
     "ename": "ValueError",
     "evalue": "Cannot load file containing pickled data when allow_pickle=False",
     "output_type": "error",
     "traceback": [
      "\u001b[0;31m---------------------------------------------------------------------------\u001b[0m",
      "\u001b[0;31mValueError\u001b[0m                                Traceback (most recent call last)",
      "\u001b[0;32m/tmp/ipykernel_2148887/2480122325.py\u001b[0m in \u001b[0;36m<cell line: 3>\u001b[0;34m()\u001b[0m\n\u001b[1;32m      1\u001b[0m \u001b[0mtarball\u001b[0m \u001b[0;34m=\u001b[0m \u001b[0;34m\"../models/OConnor_2013/LS220_datafiles.tar.gz\"\u001b[0m\u001b[0;34m\u001b[0m\u001b[0;34m\u001b[0m\u001b[0m\n\u001b[1;32m      2\u001b[0m \u001b[0mprint\u001b[0m\u001b[0;34m(\u001b[0m\u001b[0;34m\"Simulating detector effects with SNOwGLoBES ...\"\u001b[0m\u001b[0;34m)\u001b[0m\u001b[0;34m\u001b[0m\u001b[0;34m\u001b[0m\u001b[0m\n\u001b[0;32m----> 3\u001b[0;31m \u001b[0msnowglobes\u001b[0m\u001b[0;34m.\u001b[0m\u001b[0msimulate\u001b[0m\u001b[0;34m(\u001b[0m\u001b[0mSNOwGLoBES_path\u001b[0m\u001b[0;34m,\u001b[0m \u001b[0mtarball\u001b[0m\u001b[0;34m,\u001b[0m \u001b[0mdetector_input\u001b[0m\u001b[0;34m=\u001b[0m\u001b[0;34m'wc100kt30prct'\u001b[0m\u001b[0;34m)\u001b[0m\u001b[0;34m\u001b[0m\u001b[0;34m\u001b[0m\u001b[0m\n\u001b[0m\u001b[1;32m      4\u001b[0m \u001b[0;34m\u001b[0m\u001b[0m\n\u001b[1;32m      5\u001b[0m \u001b[0mprint\u001b[0m\u001b[0;34m(\u001b[0m\u001b[0;34m\"Collating results ...\"\u001b[0m\u001b[0;34m)\u001b[0m\u001b[0;34m\u001b[0m\u001b[0;34m\u001b[0m\u001b[0m\n",
      "\u001b[0;32m/gpfs/gibbs/project/heeger/egp28/conda_envs/ROOT6/lib/python3.8/site-packages/snewpy/snowglobes.py\u001b[0m in \u001b[0;36msimulate\u001b[0;34m(SNOwGLoBESdir, tarball_path, detector_input, verbose, detector_effects)\u001b[0m\n\u001b[1;32m    203\u001b[0m     \u001b[0mrates_dict\u001b[0m \u001b[0;34m=\u001b[0m \u001b[0;34m{\u001b[0m\u001b[0;34m}\u001b[0m\u001b[0;34m\u001b[0m\u001b[0;34m\u001b[0m\u001b[0m\n\u001b[1;32m    204\u001b[0m     \u001b[0;31m#read the fluence\u001b[0m\u001b[0;34m\u001b[0m\u001b[0;34m\u001b[0m\u001b[0;34m\u001b[0m\u001b[0m\n\u001b[0;32m--> 205\u001b[0;31m     \u001b[0mfluence\u001b[0m \u001b[0;34m=\u001b[0m \u001b[0mContainer\u001b[0m\u001b[0;34m.\u001b[0m\u001b[0mload\u001b[0m\u001b[0;34m(\u001b[0m\u001b[0mtarball_path\u001b[0m\u001b[0;34m)\u001b[0m\u001b[0;34m\u001b[0m\u001b[0;34m\u001b[0m\u001b[0m\n\u001b[0m\u001b[1;32m    206\u001b[0m     \u001b[0mprint\u001b[0m\u001b[0;34m(\u001b[0m\u001b[0mfluence\u001b[0m\u001b[0;34m)\u001b[0m\u001b[0;34m\u001b[0m\u001b[0;34m\u001b[0m\u001b[0m\n\u001b[1;32m    207\u001b[0m     \u001b[0;32mfor\u001b[0m \u001b[0mdet\u001b[0m \u001b[0;32min\u001b[0m \u001b[0mdetector_input\u001b[0m\u001b[0;34m:\u001b[0m\u001b[0;34m\u001b[0m\u001b[0;34m\u001b[0m\u001b[0m\n",
      "\u001b[0;32m/gpfs/gibbs/project/heeger/egp28/conda_envs/ROOT6/lib/python3.8/site-packages/snewpy/flux.py\u001b[0m in \u001b[0;36mload\u001b[0;34m(cls, fname)\u001b[0m\n\u001b[1;32m    324\u001b[0m     \u001b[0;32mdef\u001b[0m \u001b[0mload\u001b[0m\u001b[0;34m(\u001b[0m\u001b[0mcls\u001b[0m\u001b[0;34m,\u001b[0m \u001b[0mfname\u001b[0m\u001b[0;34m:\u001b[0m\u001b[0mstr\u001b[0m\u001b[0;34m)\u001b[0m\u001b[0;34m->\u001b[0m\u001b[0;34m'Container'\u001b[0m\u001b[0;34m:\u001b[0m\u001b[0;34m\u001b[0m\u001b[0;34m\u001b[0m\u001b[0m\n\u001b[1;32m    325\u001b[0m         \u001b[0;34m\"\"\"Load container from a given file\"\"\"\u001b[0m\u001b[0;34m\u001b[0m\u001b[0;34m\u001b[0m\u001b[0m\n\u001b[0;32m--> 326\u001b[0;31m         \u001b[0;32mwith\u001b[0m \u001b[0mnp\u001b[0m\u001b[0;34m.\u001b[0m\u001b[0mload\u001b[0m\u001b[0;34m(\u001b[0m\u001b[0mfname\u001b[0m\u001b[0;34m)\u001b[0m \u001b[0;32mas\u001b[0m \u001b[0mf\u001b[0m\u001b[0;34m:\u001b[0m\u001b[0;34m\u001b[0m\u001b[0;34m\u001b[0m\u001b[0m\n\u001b[0m\u001b[1;32m    327\u001b[0m             \u001b[0;32mdef\u001b[0m \u001b[0m_load_quantity\u001b[0m\u001b[0;34m(\u001b[0m\u001b[0mname\u001b[0m\u001b[0;34m)\u001b[0m\u001b[0;34m:\u001b[0m\u001b[0;34m\u001b[0m\u001b[0;34m\u001b[0m\u001b[0m\n\u001b[1;32m    328\u001b[0m                 \u001b[0marray\u001b[0m \u001b[0;34m=\u001b[0m \u001b[0mf\u001b[0m\u001b[0;34m[\u001b[0m\u001b[0mname\u001b[0m\u001b[0;34m]\u001b[0m\u001b[0;34m\u001b[0m\u001b[0;34m\u001b[0m\u001b[0m\n",
      "\u001b[0;32m/gpfs/gibbs/project/heeger/egp28/conda_envs/ROOT6/lib/python3.8/site-packages/numpy/lib/npyio.py\u001b[0m in \u001b[0;36mload\u001b[0;34m(file, mmap_mode, allow_pickle, fix_imports, encoding)\u001b[0m\n\u001b[1;32m    433\u001b[0m             \u001b[0;31m# Try a pickle\u001b[0m\u001b[0;34m\u001b[0m\u001b[0;34m\u001b[0m\u001b[0;34m\u001b[0m\u001b[0m\n\u001b[1;32m    434\u001b[0m             \u001b[0;32mif\u001b[0m \u001b[0;32mnot\u001b[0m \u001b[0mallow_pickle\u001b[0m\u001b[0;34m:\u001b[0m\u001b[0;34m\u001b[0m\u001b[0;34m\u001b[0m\u001b[0m\n\u001b[0;32m--> 435\u001b[0;31m                 raise ValueError(\"Cannot load file containing pickled data \"\n\u001b[0m\u001b[1;32m    436\u001b[0m                                  \"when allow_pickle=False\")\n\u001b[1;32m    437\u001b[0m             \u001b[0;32mtry\u001b[0m\u001b[0;34m:\u001b[0m\u001b[0;34m\u001b[0m\u001b[0;34m\u001b[0m\u001b[0m\n",
      "\u001b[0;31mValueError\u001b[0m: Cannot load file containing pickled data when allow_pickle=False"
     ]
    }
   ],
   "source": [
    "tarball = \"../models/OConnor_2013/LS220_datafiles.tar.gz\"\n",
    "tarredfile = tarfile.open('../models/OConnor_2013/LS220_datafiles.tar.gz')\n",
    "print(\"Simulating detector effects with SNOwGLoBES ...\")\n",
    "snowglobes.simulate(SNOwGLoBES_path, tarball, detector_input='wc100kt30prct')\n",
    "\n",
    "print(\"Collating results ...\")\n",
    "tables = snowglobes.collate(SNOwGLoBES_path, tarball, skip_plots=True)\n",
    "\n",
    "print(\"Finished!\")"
   ]
  },
  {
   "cell_type": "code",
   "execution_count": 19,
   "id": "9515de2c",
   "metadata": {
    "scrolled": false
   },
   "outputs": [
    {
     "name": "stdout",
     "output_type": "stream",
     "text": [
      "Generating fluence files ...\n",
      "Simulating detector effects with SNOwGLoBES ...\n"
     ]
    },
    {
     "name": "stderr",
     "output_type": "stream",
     "text": [
      "/gpfs/gibbs/project/heeger/egp28/conda_envs/ROOT6/lib/python3.8/site-packages/snewpy/snowglobes.py:145: FutureWarning: Initializing this model with a filename is deprecated. Instead, use keyword arguments ['progenitor_mass', 'revival_time', 'metallicity', 'eos']. See `Nakazato_2013.param`, `Nakazato_2013.get_param_combinations()` for more info.\n",
      "  snmodel = model_class(model_path, **snmodel_dict)\n"
     ]
    },
    {
     "name": "stdout",
     "output_type": "stream",
     "text": [
      "dF (4, 40, 200) [1 / m2]: <4 flavor(0;3) x 41 time(0.0 s;20.0 s) x 201 energy(0.25 MeV;100.25 MeV)>\n"
     ]
    },
    {
     "name": "stderr",
     "output_type": "stream",
     "text": [
      "/gpfs/gibbs/project/heeger/egp28/conda_envs/ROOT6/lib/python3.8/site-packages/snewpy/rate_calculator.py:155: UserWarning: Smearing not found for detector=kamiokande, channel=ibd. Using unsmeared spectrum\n",
      "  warn(f'Smearing not found for detector={detector}, channel={channel.name}. Using unsmeared spectrum')\n",
      "/gpfs/gibbs/project/heeger/egp28/conda_envs/ROOT6/lib/python3.8/site-packages/snewpy/rate_calculator.py:155: UserWarning: Smearing not found for detector=kamiokande, channel=nuebar_e. Using unsmeared spectrum\n",
      "  warn(f'Smearing not found for detector={detector}, channel={channel.name}. Using unsmeared spectrum')\n",
      "/gpfs/gibbs/project/heeger/egp28/conda_envs/ROOT6/lib/python3.8/site-packages/snewpy/rate_calculator.py:155: UserWarning: Smearing not found for detector=kamiokande, channel=numu_e. Using unsmeared spectrum\n",
      "  warn(f'Smearing not found for detector={detector}, channel={channel.name}. Using unsmeared spectrum')\n",
      "/gpfs/gibbs/project/heeger/egp28/conda_envs/ROOT6/lib/python3.8/site-packages/snewpy/rate_calculator.py:155: UserWarning: Smearing not found for detector=kamiokande, channel=numubar_e. Using unsmeared spectrum\n",
      "  warn(f'Smearing not found for detector={detector}, channel={channel.name}. Using unsmeared spectrum')\n",
      "/gpfs/gibbs/project/heeger/egp28/conda_envs/ROOT6/lib/python3.8/site-packages/snewpy/rate_calculator.py:155: UserWarning: Smearing not found for detector=kamiokande, channel=nutau_e. Using unsmeared spectrum\n",
      "  warn(f'Smearing not found for detector={detector}, channel={channel.name}. Using unsmeared spectrum')\n",
      "/gpfs/gibbs/project/heeger/egp28/conda_envs/ROOT6/lib/python3.8/site-packages/snewpy/rate_calculator.py:155: UserWarning: Smearing not found for detector=kamiokande, channel=nutaubar_e. Using unsmeared spectrum\n",
      "  warn(f'Smearing not found for detector={detector}, channel={channel.name}. Using unsmeared spectrum')\n",
      "/gpfs/gibbs/project/heeger/egp28/conda_envs/ROOT6/lib/python3.8/site-packages/snewpy/rate_calculator.py:155: UserWarning: Smearing not found for detector=kamiokande, channel=nue_O16. Using unsmeared spectrum\n",
      "  warn(f'Smearing not found for detector={detector}, channel={channel.name}. Using unsmeared spectrum')\n",
      "/gpfs/gibbs/project/heeger/egp28/conda_envs/ROOT6/lib/python3.8/site-packages/snewpy/rate_calculator.py:155: UserWarning: Smearing not found for detector=kamiokande, channel=nc_nue_O16. Using unsmeared spectrum\n",
      "  warn(f'Smearing not found for detector={detector}, channel={channel.name}. Using unsmeared spectrum')\n",
      "/gpfs/gibbs/project/heeger/egp28/conda_envs/ROOT6/lib/python3.8/site-packages/snewpy/rate_calculator.py:155: UserWarning: Smearing not found for detector=kamiokande, channel=nc_nuebar_O16. Using unsmeared spectrum\n",
      "  warn(f'Smearing not found for detector={detector}, channel={channel.name}. Using unsmeared spectrum')\n",
      "/gpfs/gibbs/project/heeger/egp28/conda_envs/ROOT6/lib/python3.8/site-packages/snewpy/rate_calculator.py:155: UserWarning: Smearing not found for detector=kamiokande, channel=nc_numu_O16. Using unsmeared spectrum\n",
      "  warn(f'Smearing not found for detector={detector}, channel={channel.name}. Using unsmeared spectrum')\n",
      "/gpfs/gibbs/project/heeger/egp28/conda_envs/ROOT6/lib/python3.8/site-packages/snewpy/rate_calculator.py:155: UserWarning: Smearing not found for detector=kamiokande, channel=nc_numubar_O16. Using unsmeared spectrum\n",
      "  warn(f'Smearing not found for detector={detector}, channel={channel.name}. Using unsmeared spectrum')\n",
      "/gpfs/gibbs/project/heeger/egp28/conda_envs/ROOT6/lib/python3.8/site-packages/snewpy/rate_calculator.py:155: UserWarning: Smearing not found for detector=kamiokande, channel=nc_nutau_O16. Using unsmeared spectrum\n",
      "  warn(f'Smearing not found for detector={detector}, channel={channel.name}. Using unsmeared spectrum')\n",
      "/gpfs/gibbs/project/heeger/egp28/conda_envs/ROOT6/lib/python3.8/site-packages/snewpy/rate_calculator.py:155: UserWarning: Smearing not found for detector=kamiokande, channel=nc_nutaubar_O16. Using unsmeared spectrum\n",
      "  warn(f'Smearing not found for detector={detector}, channel={channel.name}. Using unsmeared spectrum')\n"
     ]
    },
    {
     "name": "stdout",
     "output_type": "stream",
     "text": [
      "Collating results ...\n",
      "Finished!\n"
     ]
    }
   ],
   "source": [
    "# Now, do the main work:\n",
    "print(\"Generating fluence files ...\")\n",
    "tarredfile = snowglobes.generate_fluence(model_path, modeltype, transformation, distance, outfile, tstart, tend)\n",
    "# tarredfile = snowglobes.generate_time_series(model_path, modeltype, transformation, distance, outfile)\n",
    "print(\"Simulating detector effects with SNOwGLoBES ...\")\n",
    "snowglobes.simulate(SNOwGLoBES_path, tarredfile, detector_input=detector)\n",
    "\n",
    "print(\"Collating results ...\")\n",
    "tables = snowglobes.collate(SNOwGLoBES_path, tarredfile, skip_plots=True)\n",
    "\n",
    "print(\"Finished!\")"
   ]
  },
  {
   "cell_type": "code",
   "execution_count": 20,
   "id": "6b588154",
   "metadata": {},
   "outputs": [
    {
     "name": "stdout",
     "output_type": "stream",
     "text": [
      "Total events in Kamiokande detector: 0.03448893059858675\n"
     ]
    }
   ],
   "source": [
    "# Use results to print the number of events in different interaction channels\n",
    "for i in range(0,30):\n",
    "    key = f\"Collated_{outfile}_{i}_{detector}_events_smeared_weighted.dat\"\n",
    "    total_events = 0\n",
    "    for i, channel in enumerate(tables[key]['header'].split()):\n",
    "        if i == 0:\n",
    "            continue\n",
    "        n_events = sum(tables[key]['data'][i])\n",
    "        total_events += n_events\n",
    "#         print(f\"{channel:10}: {n_events:.3f} events\")\n",
    "\n",
    "#Super-K has 32kT inner volume\n",
    "print(\"Total events in Kamiokande detector:\",total_events)"
   ]
  },
  {
   "cell_type": "code",
   "execution_count": 10,
   "id": "ba62d974",
   "metadata": {
    "scrolled": true
   },
   "outputs": [
    {
     "ename": "KeyError",
     "evalue": "'Collated_kamiokande_Zha_2021_s20_AdiabaticMSW_NMOtime_series_kamiokande_events_smeared_weighted.dat'",
     "output_type": "error",
     "traceback": [
      "\u001b[0;31m---------------------------------------------------------------------------\u001b[0m",
      "\u001b[0;31mKeyError\u001b[0m                                  Traceback (most recent call last)",
      "\u001b[0;32m/tmp/ipykernel_2138926/3608743452.py\u001b[0m in \u001b[0;36m<cell line: 4>\u001b[0;34m()\u001b[0m\n\u001b[1;32m      2\u001b[0m \u001b[0mkey\u001b[0m \u001b[0;34m=\u001b[0m \u001b[0;34mf\"Collated_{outfile}_{detector}_events_smeared_weighted.dat\"\u001b[0m\u001b[0;34m\u001b[0m\u001b[0;34m\u001b[0m\u001b[0m\n\u001b[1;32m      3\u001b[0m \u001b[0mtotal_events\u001b[0m \u001b[0;34m=\u001b[0m \u001b[0;36m0\u001b[0m\u001b[0;34m\u001b[0m\u001b[0;34m\u001b[0m\u001b[0m\n\u001b[0;32m----> 4\u001b[0;31m \u001b[0;32mfor\u001b[0m \u001b[0mi\u001b[0m\u001b[0;34m,\u001b[0m \u001b[0mchannel\u001b[0m \u001b[0;32min\u001b[0m \u001b[0menumerate\u001b[0m\u001b[0;34m(\u001b[0m\u001b[0mtables\u001b[0m\u001b[0;34m[\u001b[0m\u001b[0mkey\u001b[0m\u001b[0;34m]\u001b[0m\u001b[0;34m[\u001b[0m\u001b[0;34m'header'\u001b[0m\u001b[0;34m]\u001b[0m\u001b[0;34m.\u001b[0m\u001b[0msplit\u001b[0m\u001b[0;34m(\u001b[0m\u001b[0;34m)\u001b[0m\u001b[0;34m)\u001b[0m\u001b[0;34m:\u001b[0m\u001b[0;34m\u001b[0m\u001b[0;34m\u001b[0m\u001b[0m\n\u001b[0m\u001b[1;32m      5\u001b[0m     \u001b[0;32mif\u001b[0m \u001b[0mi\u001b[0m \u001b[0;34m==\u001b[0m \u001b[0;36m0\u001b[0m\u001b[0;34m:\u001b[0m\u001b[0;34m\u001b[0m\u001b[0;34m\u001b[0m\u001b[0m\n\u001b[1;32m      6\u001b[0m         \u001b[0;32mcontinue\u001b[0m\u001b[0;34m\u001b[0m\u001b[0;34m\u001b[0m\u001b[0m\n",
      "\u001b[0;31mKeyError\u001b[0m: 'Collated_kamiokande_Zha_2021_s20_AdiabaticMSW_NMOtime_series_kamiokande_events_smeared_weighted.dat'"
     ]
    }
   ],
   "source": [
    "# Use results to print the number of events in different interaction channels\n",
    "key = f\"Collated_{outfile}_{detector}_events_smeared_weighted.dat\"\n",
    "total_events = 0\n",
    "for i, channel in enumerate(tables[key]['header'].split()):\n",
    "    if i == 0:\n",
    "        continue\n",
    "    n_events = sum(tables[key]['data'][i])\n",
    "    total_events += n_events\n",
    "    print(f\"{channel:10}: {n_events:.3f} events\")\n",
    "\n",
    "#Super-K has 32kT inner volume\n",
    "print(\"Total events in Kamiokande detector:\",total_events)"
   ]
  },
  {
   "cell_type": "code",
   "execution_count": 35,
   "id": "36b62807",
   "metadata": {},
   "outputs": [
    {
     "data": {
      "text/plain": [
       "['Energy', 'ibd', 'nue_O16', 'nuebar_O16', 'nc', 'e']"
      ]
     },
     "execution_count": 35,
     "metadata": {},
     "output_type": "execute_result"
    }
   ],
   "source": [
    "tables[key]['header'].split()"
   ]
  },
  {
   "cell_type": "code",
   "execution_count": 16,
   "id": "29e1d9c0",
   "metadata": {},
   "outputs": [
    {
     "data": {
      "image/png": "[encoded data removed]",
      "text/plain": [
       "<Figure size 432x288 with 1 Axes>"
      ]
     },
     "metadata": {
      "needs_background": "light"
     },
     "output_type": "display_data"
    },
    {
     "name": "stdout",
     "output_type": "stream",
     "text": [
      "Total Events: 8.75739044732694\n"
     ]
    }
   ],
   "source": [
    "# %matplotlib inline\n",
    "nevents = np.zeros(len(tmid)) # per bins, same as per s\n",
    "for i in range(len(tmid)): # for each second (0.5, 1.5, ..., 12.5)\n",
    "    key = f\"Collated_{outfile}_{i}_{detector}_events_smeared_weighted.dat\" # data\n",
    "    for j in range(1,len(tables[key]['header'].split())):\n",
    "        nevents[i] += sum(tables[key]['data'][j])\n",
    "\n",
    "plt.plot(tmid, nevents)\n",
    "plt.xlabel(\"time (s)\")\n",
    "plt.ylabel(\"Counts/sec\")\n",
    "plt.show()\n",
    "print(\"Total Events:\", sum(nevents))"
   ]
  },
  {
   "cell_type": "code",
   "execution_count": null,
   "id": "54c5f619",
   "metadata": {},
   "outputs": [],
   "source": [
    "model_file = \"../models/Nakazato_2013/nakazato-shen-z0.004-t_rev100ms-s20.0.fits\"\n",
    "modeltype = 'Nakazato_2013'\n",
    "transformation = 'AdiabaticMSW_NMO'\n",
    "d = 51.4  # Supernova distance in kpc\n",
    "\n",
    "# Running the modules\n",
    "outfile = snowglobes.generate_time_series(model_file, modeltype, transformation, d)\n",
    "snowglobes.simulate(SNOwGLoBES_path, outfile, detector_input=\"kamiokande\")\n",
    "snowglobes.collate(SNOwGLoBES_path, outfile)\n",
    "print(\"done\")"
   ]
  },
  {
   "cell_type": "code",
   "execution_count": 1,
   "id": "419a421d",
   "metadata": {},
   "outputs": [
    {
     "name": "stderr",
     "output_type": "stream",
     "text": [
      "/tmp/ipykernel_2134818/3643757478.py:10: FutureWarning: snewpy.models.SNOwGLoBES is moved to snewpy.models.ccsn.SNOwGLoBES\n",
      "  from snewpy.models import SNOwGLoBES\n"
     ]
    }
   ],
   "source": [
    "import astropy.units as u\n",
    "import matplotlib as mpl\n",
    "import matplotlib.pyplot as plt\n",
    "import numpy as np\n",
    "%matplotlib inline\n",
    "import snewpy\n",
    "from snewpy.models.ccsn import Nakazato_2013\n",
    "from snewpy.neutrino import Flavor, MassHierarchy\n",
    "from snewpy.flavor_transformation import NoTransformation, AdiabaticMSW, ThreeFlavorDecoherence\n",
    "from snewpy.models import SNOwGLoBES\n",
    "from snewpy import snowglobes\n",
    "\n",
    "SNOwGLoBES_path = \"../../snowglobes/\"  # change to SNOwGLoBES directory if using a custom detector configuration\n",
    "SNEWPY_model_dir = \"../models/\"  # directory containing model input files"
   ]
  },
  {
   "cell_type": "code",
   "execution_count": 2,
   "id": "498984e2",
   "metadata": {},
   "outputs": [
    {
     "name": "stderr",
     "output_type": "stream",
     "text": [
      "/gpfs/gibbs/project/heeger/egp28/conda_envs/ROOT6/lib/python3.8/site-packages/snewpy/snowglobes.py:79: FutureWarning: Initializing this model with a filename is deprecated. Instead, use keyword arguments ['progenitor_mass', 'revival_time', 'metallicity', 'eos']. See `Nakazato_2013.param`, `Nakazato_2013.get_param_combinations()` for more info.\n",
      "  snmodel = model_class(model_path, **snmodel_dict)\n"
     ]
    },
    {
     "name": "stdout",
     "output_type": "stream",
     "text": [
      "dF (4, 30, 500) [1 / m2]: <4 flavor(0;3) x 31 time(-0.05 s;19.353225806451615 s) x 501 energy(0.0 MeV;100.0 MeV)>\n",
      "smearing_shape: (200, 200)\n"
     ]
    },
    {
     "ename": "ValueError",
     "evalue": "operands could not be broadcast together with shapes (500,) (200,) ",
     "output_type": "error",
     "traceback": [
      "\u001b[0;31m---------------------------------------------------------------------------\u001b[0m",
      "\u001b[0;31mValueError\u001b[0m                                Traceback (most recent call last)",
      "\u001b[0;32m/tmp/ipykernel_2134818/3444931108.py\u001b[0m in \u001b[0;36m<cell line: 8>\u001b[0;34m()\u001b[0m\n\u001b[1;32m      6\u001b[0m \u001b[0;31m# Running the modules\u001b[0m\u001b[0;34m\u001b[0m\u001b[0;34m\u001b[0m\u001b[0;34m\u001b[0m\u001b[0m\n\u001b[1;32m      7\u001b[0m \u001b[0moutfile\u001b[0m \u001b[0;34m=\u001b[0m \u001b[0msnowglobes\u001b[0m\u001b[0;34m.\u001b[0m\u001b[0mgenerate_time_series\u001b[0m\u001b[0;34m(\u001b[0m\u001b[0mmodel_file\u001b[0m\u001b[0;34m,\u001b[0m \u001b[0mmodeltype\u001b[0m\u001b[0;34m,\u001b[0m \u001b[0mtransformation\u001b[0m\u001b[0;34m,\u001b[0m \u001b[0md\u001b[0m\u001b[0;34m)\u001b[0m\u001b[0;34m\u001b[0m\u001b[0;34m\u001b[0m\u001b[0m\n\u001b[0;32m----> 8\u001b[0;31m \u001b[0msnowglobes\u001b[0m\u001b[0;34m.\u001b[0m\u001b[0msimulate\u001b[0m\u001b[0;34m(\u001b[0m\u001b[0mSNOwGLoBES_path\u001b[0m\u001b[0;34m,\u001b[0m \u001b[0moutfile\u001b[0m\u001b[0;34m,\u001b[0m \u001b[0mdetector_input\u001b[0m\u001b[0;34m=\u001b[0m\u001b[0;34m\"kamiokande\"\u001b[0m\u001b[0;34m)\u001b[0m\u001b[0;34m\u001b[0m\u001b[0;34m\u001b[0m\u001b[0m\n\u001b[0m\u001b[1;32m      9\u001b[0m \u001b[0msnowglobes\u001b[0m\u001b[0;34m.\u001b[0m\u001b[0mcollate\u001b[0m\u001b[0;34m(\u001b[0m\u001b[0mSNOwGLoBES_path\u001b[0m\u001b[0;34m,\u001b[0m \u001b[0moutfile\u001b[0m\u001b[0;34m)\u001b[0m\u001b[0;34m\u001b[0m\u001b[0;34m\u001b[0m\u001b[0m\n\u001b[1;32m     10\u001b[0m \u001b[0mprint\u001b[0m\u001b[0;34m(\u001b[0m\u001b[0;34m\"done\"\u001b[0m\u001b[0;34m)\u001b[0m\u001b[0;34m\u001b[0m\u001b[0;34m\u001b[0m\u001b[0m\n",
      "\u001b[0;32m/gpfs/gibbs/project/heeger/egp28/conda_envs/ROOT6/lib/python3.8/site-packages/snewpy/snowglobes.py\u001b[0m in \u001b[0;36msimulate\u001b[0;34m(SNOwGLoBESdir, tarball_path, detector_input, verbose, detector_effects)\u001b[0m\n\u001b[1;32m    201\u001b[0m     \u001b[0mprint\u001b[0m\u001b[0;34m(\u001b[0m\u001b[0mfluence\u001b[0m\u001b[0;34m)\u001b[0m\u001b[0;34m\u001b[0m\u001b[0;34m\u001b[0m\u001b[0m\n\u001b[1;32m    202\u001b[0m     \u001b[0;32mfor\u001b[0m \u001b[0mdet\u001b[0m \u001b[0;32min\u001b[0m \u001b[0mdetector_input\u001b[0m\u001b[0;34m:\u001b[0m\u001b[0;34m\u001b[0m\u001b[0;34m\u001b[0m\u001b[0m\n\u001b[0;32m--> 203\u001b[0;31m         \u001b[0mrates_smeared\u001b[0m\u001b[0;34m=\u001b[0m\u001b[0mrc\u001b[0m\u001b[0;34m.\u001b[0m\u001b[0mrun\u001b[0m\u001b[0;34m(\u001b[0m\u001b[0mfluence\u001b[0m\u001b[0;34m,\u001b[0m \u001b[0mdet\u001b[0m\u001b[0;34m,\u001b[0m \u001b[0mdetector_effects\u001b[0m\u001b[0;34m=\u001b[0m\u001b[0;32mTrue\u001b[0m\u001b[0;34m)\u001b[0m\u001b[0;34m\u001b[0m\u001b[0;34m\u001b[0m\u001b[0m\n\u001b[0m\u001b[1;32m    204\u001b[0m         \u001b[0mrates_unsmeared\u001b[0m\u001b[0;34m=\u001b[0m\u001b[0mrc\u001b[0m\u001b[0;34m.\u001b[0m\u001b[0mrun\u001b[0m\u001b[0;34m(\u001b[0m\u001b[0mfluence\u001b[0m\u001b[0;34m,\u001b[0m \u001b[0mdet\u001b[0m\u001b[0;34m,\u001b[0m \u001b[0mdetector_effects\u001b[0m\u001b[0;34m=\u001b[0m\u001b[0;32mFalse\u001b[0m\u001b[0;34m)\u001b[0m\u001b[0;34m\u001b[0m\u001b[0;34m\u001b[0m\u001b[0m\n\u001b[1;32m    205\u001b[0m         \u001b[0;31m#collect everything to pandas DataFrame, to make the output similar to previous\u001b[0m\u001b[0;34m\u001b[0m\u001b[0;34m\u001b[0m\u001b[0;34m\u001b[0m\u001b[0m\n",
      "\u001b[0;32m/gpfs/gibbs/project/heeger/egp28/conda_envs/ROOT6/lib/python3.8/site-packages/snewpy/rate_calculator.py\u001b[0m in \u001b[0;36mrun\u001b[0;34m(self, flux, detector, material, detector_effects)\u001b[0m\n\u001b[1;32m    141\u001b[0m             \u001b[0menergy_bin_centers\u001b[0m \u001b[0;34m=\u001b[0m \u001b[0mcenter\u001b[0m\u001b[0;34m(\u001b[0m\u001b[0mrate\u001b[0m\u001b[0;34m.\u001b[0m\u001b[0menergy\u001b[0m\u001b[0;34m)\u001b[0m\u001b[0;34m\u001b[0m\u001b[0;34m\u001b[0m\u001b[0m\n\u001b[1;32m    142\u001b[0m             \u001b[0;32mif\u001b[0m \u001b[0mdetector_effects\u001b[0m \u001b[0;32mand\u001b[0m \u001b[0;32mnot\u001b[0m \u001b[0mrate\u001b[0m\u001b[0;34m.\u001b[0m\u001b[0mcan_integrate\u001b[0m\u001b[0;34m(\u001b[0m\u001b[0;34m'energy'\u001b[0m\u001b[0;34m)\u001b[0m\u001b[0;34m:\u001b[0m\u001b[0;34m\u001b[0m\u001b[0;34m\u001b[0m\u001b[0m\n\u001b[0;32m--> 143\u001b[0;31m                     \u001b[0;32mif\u001b[0m \u001b[0;32mnot\u001b[0m \u001b[0mnp\u001b[0m\u001b[0;34m.\u001b[0m\u001b[0mallclose\u001b[0m\u001b[0;34m(\u001b[0m\u001b[0menergy_bin_centers\u001b[0m\u001b[0;34m<<\u001b[0m\u001b[0mu\u001b[0m\u001b[0;34m.\u001b[0m\u001b[0mGeV\u001b[0m\u001b[0;34m,\u001b[0m\u001b[0menergies_s\u001b[0m\u001b[0;34m<<\u001b[0m\u001b[0mu\u001b[0m\u001b[0;34m.\u001b[0m\u001b[0mGeV\u001b[0m\u001b[0;34m)\u001b[0m\u001b[0;34m:\u001b[0m\u001b[0;34m\u001b[0m\u001b[0;34m\u001b[0m\u001b[0m\n\u001b[0m\u001b[1;32m    144\u001b[0m                         \u001b[0;32mraise\u001b[0m \u001b[0mValueError\u001b[0m\u001b[0;34m(\u001b[0m\u001b[0;34mf'Fluence energy values should be equal to smearing matrix binning. Check binning[\"{material}\"][\"e_true\"]!'\u001b[0m\u001b[0;34m)\u001b[0m\u001b[0;34m\u001b[0m\u001b[0;34m\u001b[0m\u001b[0m\n\u001b[1;32m    145\u001b[0m             \u001b[0;32mif\u001b[0m \u001b[0mdetector_effects\u001b[0m\u001b[0;34m:\u001b[0m\u001b[0;34m\u001b[0m\u001b[0;34m\u001b[0m\u001b[0m\n",
      "\u001b[0;32m/gpfs/gibbs/project/heeger/egp28/conda_envs/ROOT6/lib/python3.8/site-packages/numpy/core/overrides.py\u001b[0m in \u001b[0;36mallclose\u001b[0;34m(*args, **kwargs)\u001b[0m\n",
      "\u001b[0;32m/gpfs/gibbs/project/heeger/egp28/conda_envs/ROOT6/lib/python3.8/site-packages/astropy/units/quantity.py\u001b[0m in \u001b[0;36m__array_function__\u001b[0;34m(self, function, types, args, kwargs)\u001b[0m\n\u001b[1;32m   1830\u001b[0m                 \u001b[0;32mreturn\u001b[0m \u001b[0mself\u001b[0m\u001b[0;34m.\u001b[0m\u001b[0m_not_implemented_or_raise\u001b[0m\u001b[0;34m(\u001b[0m\u001b[0mfunction\u001b[0m\u001b[0;34m,\u001b[0m \u001b[0mtypes\u001b[0m\u001b[0;34m)\u001b[0m\u001b[0;34m\u001b[0m\u001b[0;34m\u001b[0m\u001b[0m\n\u001b[1;32m   1831\u001b[0m \u001b[0;34m\u001b[0m\u001b[0m\n\u001b[0;32m-> 1832\u001b[0;31m             \u001b[0mresult\u001b[0m \u001b[0;34m=\u001b[0m \u001b[0msuper\u001b[0m\u001b[0;34m(\u001b[0m\u001b[0;34m)\u001b[0m\u001b[0;34m.\u001b[0m\u001b[0m__array_function__\u001b[0m\u001b[0;34m(\u001b[0m\u001b[0mfunction\u001b[0m\u001b[0;34m,\u001b[0m \u001b[0mtypes\u001b[0m\u001b[0;34m,\u001b[0m \u001b[0margs\u001b[0m\u001b[0;34m,\u001b[0m \u001b[0mkwargs\u001b[0m\u001b[0;34m)\u001b[0m\u001b[0;34m\u001b[0m\u001b[0;34m\u001b[0m\u001b[0m\n\u001b[0m\u001b[1;32m   1833\u001b[0m             \u001b[0;31m# Fall through to return section\u001b[0m\u001b[0;34m\u001b[0m\u001b[0;34m\u001b[0m\u001b[0;34m\u001b[0m\u001b[0m\n\u001b[1;32m   1834\u001b[0m \u001b[0;34m\u001b[0m\u001b[0m\n",
      "\u001b[0;32m/gpfs/gibbs/project/heeger/egp28/conda_envs/ROOT6/lib/python3.8/site-packages/numpy/core/numeric.py\u001b[0m in \u001b[0;36mallclose\u001b[0;34m(a, b, rtol, atol, equal_nan)\u001b[0m\n\u001b[1;32m   2249\u001b[0m \u001b[0;34m\u001b[0m\u001b[0m\n\u001b[1;32m   2250\u001b[0m     \"\"\"\n\u001b[0;32m-> 2251\u001b[0;31m     \u001b[0mres\u001b[0m \u001b[0;34m=\u001b[0m \u001b[0mall\u001b[0m\u001b[0;34m(\u001b[0m\u001b[0misclose\u001b[0m\u001b[0;34m(\u001b[0m\u001b[0ma\u001b[0m\u001b[0;34m,\u001b[0m \u001b[0mb\u001b[0m\u001b[0;34m,\u001b[0m \u001b[0mrtol\u001b[0m\u001b[0;34m=\u001b[0m\u001b[0mrtol\u001b[0m\u001b[0;34m,\u001b[0m \u001b[0matol\u001b[0m\u001b[0;34m=\u001b[0m\u001b[0matol\u001b[0m\u001b[0;34m,\u001b[0m \u001b[0mequal_nan\u001b[0m\u001b[0;34m=\u001b[0m\u001b[0mequal_nan\u001b[0m\u001b[0;34m)\u001b[0m\u001b[0;34m)\u001b[0m\u001b[0;34m\u001b[0m\u001b[0;34m\u001b[0m\u001b[0m\n\u001b[0m\u001b[1;32m   2252\u001b[0m     \u001b[0;32mreturn\u001b[0m \u001b[0mbool\u001b[0m\u001b[0;34m(\u001b[0m\u001b[0mres\u001b[0m\u001b[0;34m)\u001b[0m\u001b[0;34m\u001b[0m\u001b[0;34m\u001b[0m\u001b[0m\n\u001b[1;32m   2253\u001b[0m \u001b[0;34m\u001b[0m\u001b[0m\n",
      "\u001b[0;32m/gpfs/gibbs/project/heeger/egp28/conda_envs/ROOT6/lib/python3.8/site-packages/numpy/core/overrides.py\u001b[0m in \u001b[0;36misclose\u001b[0;34m(*args, **kwargs)\u001b[0m\n",
      "\u001b[0;32m/gpfs/gibbs/project/heeger/egp28/conda_envs/ROOT6/lib/python3.8/site-packages/numpy/core/numeric.py\u001b[0m in \u001b[0;36misclose\u001b[0;34m(a, b, rtol, atol, equal_nan)\u001b[0m\n\u001b[1;32m   2359\u001b[0m     \u001b[0myfin\u001b[0m \u001b[0;34m=\u001b[0m \u001b[0misfinite\u001b[0m\u001b[0;34m(\u001b[0m\u001b[0my\u001b[0m\u001b[0;34m)\u001b[0m\u001b[0;34m\u001b[0m\u001b[0;34m\u001b[0m\u001b[0m\n\u001b[1;32m   2360\u001b[0m     \u001b[0;32mif\u001b[0m \u001b[0mall\u001b[0m\u001b[0;34m(\u001b[0m\u001b[0mxfin\u001b[0m\u001b[0;34m)\u001b[0m \u001b[0;32mand\u001b[0m \u001b[0mall\u001b[0m\u001b[0;34m(\u001b[0m\u001b[0myfin\u001b[0m\u001b[0;34m)\u001b[0m\u001b[0;34m:\u001b[0m\u001b[0;34m\u001b[0m\u001b[0;34m\u001b[0m\u001b[0m\n\u001b[0;32m-> 2361\u001b[0;31m         \u001b[0;32mreturn\u001b[0m \u001b[0mwithin_tol\u001b[0m\u001b[0;34m(\u001b[0m\u001b[0mx\u001b[0m\u001b[0;34m,\u001b[0m \u001b[0my\u001b[0m\u001b[0;34m,\u001b[0m \u001b[0matol\u001b[0m\u001b[0;34m,\u001b[0m \u001b[0mrtol\u001b[0m\u001b[0;34m)\u001b[0m\u001b[0;34m\u001b[0m\u001b[0;34m\u001b[0m\u001b[0m\n\u001b[0m\u001b[1;32m   2362\u001b[0m     \u001b[0;32melse\u001b[0m\u001b[0;34m:\u001b[0m\u001b[0;34m\u001b[0m\u001b[0;34m\u001b[0m\u001b[0m\n\u001b[1;32m   2363\u001b[0m         \u001b[0mfinite\u001b[0m \u001b[0;34m=\u001b[0m \u001b[0mxfin\u001b[0m \u001b[0;34m&\u001b[0m \u001b[0myfin\u001b[0m\u001b[0;34m\u001b[0m\u001b[0;34m\u001b[0m\u001b[0m\n",
      "\u001b[0;32m/gpfs/gibbs/project/heeger/egp28/conda_envs/ROOT6/lib/python3.8/site-packages/numpy/core/numeric.py\u001b[0m in \u001b[0;36mwithin_tol\u001b[0;34m(x, y, atol, rtol)\u001b[0m\n\u001b[1;32m   2340\u001b[0m     \u001b[0;32mdef\u001b[0m \u001b[0mwithin_tol\u001b[0m\u001b[0;34m(\u001b[0m\u001b[0mx\u001b[0m\u001b[0;34m,\u001b[0m \u001b[0my\u001b[0m\u001b[0;34m,\u001b[0m \u001b[0matol\u001b[0m\u001b[0;34m,\u001b[0m \u001b[0mrtol\u001b[0m\u001b[0;34m)\u001b[0m\u001b[0;34m:\u001b[0m\u001b[0;34m\u001b[0m\u001b[0;34m\u001b[0m\u001b[0m\n\u001b[1;32m   2341\u001b[0m         \u001b[0;32mwith\u001b[0m \u001b[0merrstate\u001b[0m\u001b[0;34m(\u001b[0m\u001b[0minvalid\u001b[0m\u001b[0;34m=\u001b[0m\u001b[0;34m'ignore'\u001b[0m\u001b[0;34m)\u001b[0m\u001b[0;34m:\u001b[0m\u001b[0;34m\u001b[0m\u001b[0;34m\u001b[0m\u001b[0m\n\u001b[0;32m-> 2342\u001b[0;31m             \u001b[0;32mreturn\u001b[0m \u001b[0mless_equal\u001b[0m\u001b[0;34m(\u001b[0m\u001b[0mabs\u001b[0m\u001b[0;34m(\u001b[0m\u001b[0mx\u001b[0m\u001b[0;34m-\u001b[0m\u001b[0my\u001b[0m\u001b[0;34m)\u001b[0m\u001b[0;34m,\u001b[0m \u001b[0matol\u001b[0m \u001b[0;34m+\u001b[0m \u001b[0mrtol\u001b[0m \u001b[0;34m*\u001b[0m \u001b[0mabs\u001b[0m\u001b[0;34m(\u001b[0m\u001b[0my\u001b[0m\u001b[0;34m)\u001b[0m\u001b[0;34m)\u001b[0m\u001b[0;34m\u001b[0m\u001b[0;34m\u001b[0m\u001b[0m\n\u001b[0m\u001b[1;32m   2343\u001b[0m \u001b[0;34m\u001b[0m\u001b[0m\n\u001b[1;32m   2344\u001b[0m     \u001b[0mx\u001b[0m \u001b[0;34m=\u001b[0m \u001b[0masanyarray\u001b[0m\u001b[0;34m(\u001b[0m\u001b[0ma\u001b[0m\u001b[0;34m)\u001b[0m\u001b[0;34m\u001b[0m\u001b[0;34m\u001b[0m\u001b[0m\n",
      "\u001b[0;31mValueError\u001b[0m: operands could not be broadcast together with shapes (500,) (200,) "
     ]
    }
   ],
   "source": [
    "model_file = \"../models/Nakazato_2013/nakazato-shen-z0.004-t_rev100ms-s20.0.fits\"\n",
    "modeltype = 'Nakazato_2013'\n",
    "transformation = 'AdiabaticMSW_NMO'\n",
    "d = 51.4  # Supernova distance in kpc\n",
    "\n",
    "# Running the modules\n",
    "outfile = snowglobes.generate_time_series(model_file, modeltype, transformation, d)\n",
    "snowglobes.simulate(SNOwGLoBES_path, outfile, detector_input=\"kamiokande\")\n",
    "snowglobes.collate(SNOwGLoBES_path, outfile)\n",
    "print(\"done\")"
   ]
  },
  {
   "cell_type": "code",
   "execution_count": null,
   "id": "e2e3409f",
   "metadata": {},
   "outputs": [],
   "source": []
  }
 ],
 "metadata": {
  "kernelspec": {
   "display_name": "Python 3 (ipykernel)",
   "language": "python",
   "name": "python3"
  },
  "language_info": {
   "codemirror_mode": {
    "name": "ipython",
    "version": 3
   },
   "file_extension": ".py",
   "mimetype": "text/x-python",
   "name": "python",
   "nbconvert_exporter": "python",
   "pygments_lexer": "ipython3",
   "version": "3.8.10"
  }
 },
 "nbformat": 4,
 "nbformat_minor": 5
}
