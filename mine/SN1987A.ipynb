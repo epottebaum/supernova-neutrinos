{
 "cells": [
  {
   "cell_type": "code",
   "execution_count": 27,
   "id": "d70ee12c",
   "metadata": {},
   "outputs": [
    {
     "name": "stderr",
     "output_type": "stream",
     "text": [
      "/tmp/ipykernel_3790438/4269992018.py:10: FutureWarning: snewpy.models.SNOwGLoBES is moved to snewpy.models.ccsn.SNOwGLoBES\n",
      "  from snewpy.models import SNOwGLoBES\n"
     ]
    }
   ],
   "source": [
    "import astropy.units as u\n",
    "import matplotlib as mpl\n",
    "import matplotlib.pyplot as plt\n",
    "import numpy as np\n",
    "%matplotlib inline\n",
    "import snewpy\n",
    "from snewpy.models.ccsn import Nakazato_2013, Bollig_2016, Zha_2021, OConnor_2013\n",
    "from snewpy.neutrino import Flavor, MassHierarchy\n",
    "from snewpy.flavor_transformation import NoTransformation, AdiabaticMSW, ThreeFlavorDecoherence\n",
    "from snewpy.models import SNOwGLoBES\n",
    "from snewpy import snowglobes"
   ]
  },
  {
   "cell_type": "code",
   "execution_count": 197,
   "id": "029cb9a1",
   "metadata": {},
   "outputs": [],
   "source": [
    "SNOwGLoBES_path = '../../snowglobes/'\n",
    "SNEWPY_model_dir = '../models/'"
   ]
  },
  {
   "cell_type": "code",
   "execution_count": 251,
   "id": "70a50945",
   "metadata": {},
   "outputs": [],
   "source": [
    "distance = 51.4 # supernova distance in kpc\n",
    "detector = \"kamiokande\" # SuperKamiokande-like detector\n",
    "# modeltype = 'Zha_2021'\n",
    "modeltype = 'Nakazato_2013'\n",
    "# model = 's20'\n",
    "model = 'nakazato-shen-z0.004-t_rev100ms-s20.0'\n",
    "model18 = 'nakazato-shen-z0.02-t_rev100ms-s20.0'\n",
    "transformation = 'AdiabaticMSW_IMO'\n",
    "\n",
    "window_tstart = -0.05\n",
    "window_tend = 20.0\n",
    "window_bins = 40\n",
    "tstart = np.linspace(window_tstart, window_tend, window_bins, endpoint=False) * u.s\n",
    "tend = tstart + (window_tend - window_tstart) / window_bins * u.s\n",
    "tmid = (tstart + tend) * 0.5"
   ]
  },
  {
   "cell_type": "code",
   "execution_count": 254,
   "id": "82f8904a",
   "metadata": {},
   "outputs": [
    {
     "name": "stderr",
     "output_type": "stream",
     "text": [
      "/gpfs/gibbs/project/heeger/egp28/conda_envs/ROOT6/lib/python3.8/site-packages/snewpy/snowglobes.py:145: FutureWarning: Initializing this model with a filename is deprecated. Instead, use keyword arguments ['progenitor_mass', 'revival_time', 'metallicity', 'eos']. See `Nakazato_2013.param`, `Nakazato_2013.get_param_combinations()` for more info.\n",
      "  snmodel = model_class(model_path, **snmodel_dict)\n",
      "/gpfs/gibbs/project/heeger/egp28/conda_envs/ROOT6/lib/python3.8/site-packages/snewpy/snowglobes.py:145: FutureWarning: Initializing this model with a filename is deprecated. Instead, use keyword arguments ['progenitor_mass', 'revival_time', 'metallicity', 'eos']. See `Nakazato_2013.param`, `Nakazato_2013.get_param_combinations()` for more info.\n",
      "  snmodel = model_class(model_path, **snmodel_dict)\n"
     ]
    }
   ],
   "source": [
    "# model_path = SNEWPY_model_dir + modeltype + \"/\" + model + \".fits\"\n",
    "model_path = SNEWPY_model_dir + modeltype + '/' + model + '.fits'\n",
    "outfile = detector + \"_\" + modeltype + \"_\" + model + \"_\" + transformation\n",
    "\n",
    "model18_path = SNEWPY_model_dir + modeltype + '/' + model18 + '.fits'\n",
    "outfile18 = detector + \"_\" + modeltype + \"_\" + model18 + \"_\" + transformation\n",
    "\n",
    "tarredfile18 = snowglobes.generate_fluence(model18_path, modeltype, transformation, distance, outfile18)\n",
    "snowglobes.simulate(SNOwGLoBES_path, tarredfile18, detector_input=detector);\n",
    "tables18 = snowglobes.collate(SNOwGLoBES_path, tarredfile18, skip_plots=True)\n",
    "\n",
    "tarredfile = snowglobes.generate_fluence(model_path, modeltype, transformation, distance, outfile)\n",
    "\n",
    "snowglobes.simulate(SNOwGLoBES_path, tarredfile, detector_input=detector);\n",
    "\n",
    "tables = snowglobes.collate(SNOwGLoBES_path, tarredfile, skip_plots=True)"
   ]
  },
  {
   "cell_type": "code",
   "execution_count": 255,
   "id": "bb8343e1",
   "metadata": {},
   "outputs": [
    {
     "name": "stdout",
     "output_type": "stream",
     "text": [
      "kamiokande z=0.004\n",
      "ibd       : 10.564 events\n",
      "nue_O16   : 0.383 events\n",
      "nuebar_O16: 0.388 events\n",
      "nc        : 0.029 events\n",
      "e         : 0.280 events\n",
      "Total events: 11.644173918346484\n"
     ]
    }
   ],
   "source": [
    "# print(\"20 solar masses\")\n",
    "print(detector, \"z=0.004\")\n",
    "key = f\"Collated_{outfile}_{detector}_events_smeared_weighted.dat\"\n",
    "total_events = 0\n",
    "for i, channel in enumerate(tables[key]['header'].split()):\n",
    "    if i == 0:\n",
    "        continue\n",
    "    n_events = sum(tables[key]['data'][i])\n",
    "    total_events += n_events\n",
    "    print(f\"{channel:10}: {n_events:.3f} events\")\n",
    "\n",
    "# Super-K has a 32kT inner volume\n",
    "print(\"Total events:\", total_events)\n",
    "# print(\"Fiducial:\", 0.713*total_events)\n",
    "# print(\"Total events in Super-K-like detector:\", 0.32*total_events)\n",
    "# print(\"Total events:\", 0.32*total_events)"
   ]
  },
  {
   "cell_type": "code",
   "execution_count": 256,
   "id": "9aadf6a2",
   "metadata": {},
   "outputs": [
    {
     "name": "stdout",
     "output_type": "stream",
     "text": [
      "kamiokande z=0.02\n",
      "ibd       : 8.405 events\n",
      "nue_O16   : 0.225 events\n",
      "nuebar_O16: 0.253 events\n",
      "nc        : 0.018 events\n",
      "e         : 0.223 events\n",
      "Total events: 9.123558542021039\n"
     ]
    }
   ],
   "source": [
    "# print(\"20 solar masses\")\n",
    "print(detector, \"z=0.02\")\n",
    "key = f\"Collated_{outfile18}_{detector}_events_smeared_weighted.dat\"\n",
    "total_events = 0\n",
    "for i, channel in enumerate(tables18[key]['header'].split()):\n",
    "    if i == 0:\n",
    "        continue\n",
    "    n_events = sum(tables18[key]['data'][i])\n",
    "    total_events += n_events\n",
    "    print(f\"{channel:10}: {n_events:.3f} events\")\n",
    "\n",
    "# Super-K has a 32kT inner volume\n",
    "# print(\"Total events in Super-K-like detector:\", 0.32*total_events)\n",
    "# print(\"Total events:\", 0.32*total_events)\n",
    "print(\"Total events:\", total_events)\n",
    "# print(\"Fiducial:\", 0.713*total_events)"
   ]
  },
  {
   "cell_type": "code",
   "execution_count": 222,
   "id": "91084fa5",
   "metadata": {},
   "outputs": [
    {
     "data": {
      "image/png": "[encoded data removed]",
      "text/plain": [
       "<Figure size 432x288 with 1 Axes>"
      ]
     },
     "metadata": {
      "needs_background": "light"
     },
     "output_type": "display_data"
    }
   ],
   "source": [
    "# super-k, km3net, icecube\n",
    "det  = [\"Super-Kamiokande\", \"KM3NeT\", \"IceCube\"]\n",
    "z004 = [201.962, 425.943, 6500.438]\n",
    "z02  = [158.846, 305.876, 4832.415]\n",
    "plt.scatter(x=det, y=z004)\n",
    "plt.scatter(x=det, y=z02)\n",
    "plt.yscale('log')\n",
    "plt.yticks([200, 500, 6000])\n",
    "plt.show()"
   ]
  },
  {
   "cell_type": "code",
   "execution_count": 165,
   "id": "b7472f6d",
   "metadata": {},
   "outputs": [
    {
     "data": {
      "text/plain": [
       "array([7.55352211, 1.27688881, 0.79643992, 0.57252808, 0.44044537,\n",
       "       0.35445991, 0.29352177, 0.24886527, 0.21439393, 0.18697621,\n",
       "       0.16365363, 0.14447065, 0.12847695, 0.11469607, 0.10290495,\n",
       "       0.0930844 , 0.08414766, 0.07755903, 0.070853  , 0.06511838])"
      ]
     },
     "execution_count": 165,
     "metadata": {},
     "output_type": "execute_result"
    }
   ],
   "source": [
    "nevents"
   ]
  },
  {
   "cell_type": "code",
   "execution_count": 169,
   "id": "d10d1f3f",
   "metadata": {},
   "outputs": [
    {
     "data": {
      "text/plain": [
       "20"
      ]
     },
     "execution_count": 169,
     "metadata": {},
     "output_type": "execute_result"
    }
   ],
   "source": [
    "len(np.linspace(0,20,20))"
   ]
  },
  {
   "cell_type": "code",
   "execution_count": 253,
   "id": "726f5c1f",
   "metadata": {},
   "outputs": [
    {
     "data": {
      "text/plain": [
       "(0.0, 2.0)"
      ]
     },
     "execution_count": 253,
     "metadata": {},
     "output_type": "execute_result"
    },
    {
     "data": {
      "image/png": "[encoded data removed]",
      "text/plain": [
       "<Figure size 504x360 with 1 Axes>"
      ]
     },
     "metadata": {
      "needs_background": "light"
     },
     "output_type": "display_data"
    }
   ],
   "source": [
    "plt.figure(figsize=(7,5))\n",
    "nevents = np.zeros(len(tmid))\n",
    "nevents18 = np.zeros(len(tmid))\n",
    "# energy = np.zeros(len(tables[f\"Collated_{outfile}_{0}_{detector}_events_smeared_weighted.dat\"]['data'][0]))\n",
    "energy = np.zeros(len(tmid))\n",
    "energy18 = np.zeros(len(tmid))\n",
    "for i in range(len(tmid)):\n",
    "    key = f\"Collated_{outfile}_{i}_{detector}_events_smeared_weighted.dat\"\n",
    "    for j in range(1,len(tables[key]['header'].split())):\n",
    "        nevents[i] += sum(tables[key]['data'][j])\n",
    "        for k in range(len(tables[key]['data'][0])): # for each energy bin\n",
    "            energy[i] += tables[key]['data'][0][k]*tables[key]['data'][j][k]\n",
    "        \n",
    "    key18 = f\"Collated_{outfile18}_{i}_{detector}_events_smeared_weighted.dat\"\n",
    "    for j in range(1,len(tables18[key18]['header'].split())):\n",
    "        nevents18[i] += sum(tables18[key18]['data'][j])\n",
    "    energy18[i] += sum(tables18[key18]['data'][0])\n",
    "\n",
    "# nevents is per bin, convert to per ms\n",
    "# factor = window_bins / (window_tend - window_tstart) / 1000\n",
    "\n",
    "\n",
    "# plt.plot(tmid * u.s, nevents, lw=2, label=\"z=0.02\")\n",
    "# plt.plot(tmid * u.s, nevents18, lw=2, label=\"z=0.004\")\n",
    "x = np.linspace(-1,2,20)\n",
    "plt.plot(tmid * u.s, nevents, label=\"z=0.004\")\n",
    "plt.plot(tmid * u.s, nevents18, label=\"z=0.02\")\n",
    "plt.xlabel(\"Time from bounce (s)\", fontsize=14)\n",
    "plt.ylabel(\"Counts\", fontsize=14)\n",
    "plt.title(\"Simulated SN1987A Events in Kamiokande II\", fontsize=16)\n",
    "plt.legend(fontsize=16)\n",
    "plt.xlim(0,2)\n",
    "# plt.show()\n",
    "# compare to Figure 5 of Zha et al. (2021)\n",
    "# print(\"Total Events:\", sum(nevents))\n",
    "# plt.savefig('plots/kam_sim_nak_zoom.png', facecolor='white', dpi=1200)"
   ]
  },
  {
   "cell_type": "code",
   "execution_count": null,
   "id": "40e07e27",
   "metadata": {},
   "outputs": [],
   "source": [
    "plt.figure(figsize=(7,5))\n",
    "nevents = np.zeros(len(tmid))\n",
    "nevents18 = np.zeros(len(tmid))\n",
    "for i in range(len(tmid)):\n",
    "    key = f\"Collated_{outfile}_{i}_{detector}_events_smeared_weighted.dat\"\n",
    "    for j in range(1,len(tables[key]['header'].split())):\n",
    "        nevents[i] += sum(tables[key]['data'][j])\n",
    "        \n",
    "    key18 = f\"Collated_{outfile18}_{i}_{detector}_events_smeared_weighted.dat\"\n",
    "    for j in range(1,len(tables18[key18]['header'].split())):\n",
    "        nevents18[i] += sum(tables18[key18]['data'][j])\n",
    "\n",
    "# nevents is per bin, convert to per ms\n",
    "# factor = window_bins / (window_tend - window_tstart) / 1000\n",
    "\n",
    "plt.plot(tmid * u.s, nevents, lw=2, label=\"z=0.02\")\n",
    "plt.plot(tmid * u.s, nevents18, lw=2, label=\"z=0.004\")\n",
    "plt.xlabel(\"Time from bounce (s)\", fontsize=14)\n",
    "plt.ylabel(\"Counts (per s)\", fontsize=14)\n",
    "plt.title(\"Simulated SN1987A Events in Kamiokande II (full volume)\", fontsize=16)\n",
    "plt.legend(fontsize=16)\n",
    "# plt.show()\n",
    "# compare to Figure 5 of Zha et al. (2021)\n",
    "print(\"Total Events:\", sum(nevents))\n",
    "plt.savefig('plots/kam_sim_nak.png', facecolor='white', dpi=1200)"
   ]
  },
  {
   "cell_type": "code",
   "execution_count": 133,
   "id": "e3781ca8",
   "metadata": {},
   "outputs": [
    {
     "name": "stdout",
     "output_type": "stream",
     "text": [
      "Total Events: 12.983006124629433\n"
     ]
    },
    {
     "data": {
      "image/png": "[encoded data removed]",
      "text/plain": [
       "<Figure size 504x360 with 1 Axes>"
      ]
     },
     "metadata": {
      "needs_background": "light"
     },
     "output_type": "display_data"
    }
   ],
   "source": [
    "plt.figure(figsize=(7,5))\n",
    "nevents = np.zeros(len(tmid))\n",
    "nevents18 = np.zeros(len(tmid))\n",
    "for i in range(len(tmid)):\n",
    "    key = f\"Collated_{outfile}_{i}_{detector}_events_smeared_weighted.dat\"\n",
    "    for j in range(1,len(tables[key]['header'].split())):\n",
    "        nevents[i] += sum(tables[key]['data'][j])\n",
    "        \n",
    "    key18 = f\"Collated_{outfile18}_{i}_{detector}_events_smeared_weighted.dat\"\n",
    "    for j in range(1,len(tables18[key18]['header'].split())):\n",
    "        nevents18[i] += sum(tables18[key18]['data'][j])\n",
    "\n",
    "# nevents is per bin, convert to per ms\n",
    "# factor = window_bins / (window_tend - window_tstart) / 1000\n",
    "\n",
    "plt.plot(tmid * u.s, nevents, lw=2, label=\"z=0.02\")\n",
    "plt.plot(tmid * u.s, nevents18, lw=2, label=\"z=0.004\")\n",
    "plt.xlabel(\"Time from bounce (s)\", fontsize=14)\n",
    "plt.ylabel(\"Counts (per s)\", fontsize=14)\n",
    "plt.title(\"Simulated SN1987A Events in Kamiokande II (full volume)\", fontsize=16)\n",
    "plt.legend(fontsize=16)\n",
    "# plt.show()\n",
    "# compare to Figure 5 of Zha et al. (2021)\n",
    "print(\"Total Events:\", sum(nevents))\n",
    "plt.savefig('plots/kam_sim_nak.png', facecolor='white', dpi=1200)"
   ]
  },
  {
   "cell_type": "markdown",
   "id": "c83c3e25",
   "metadata": {},
   "source": [
    "## Modern Detectors"
   ]
  },
  {
   "cell_type": "code",
   "execution_count": 97,
   "id": "c3c6906e",
   "metadata": {},
   "outputs": [],
   "source": [
    "distance = 51.4 # supernova distance in kpc\n",
    "detector = \"wc100kt30prct\" # SuperKamiokande-like detector\n",
    "modeltype = 'Zha_2021'\n",
    "model = 's20'\n",
    "transformation = 'AdiabaticMSW_NMO'\n",
    "\n",
    "window_tstart = -0.21\n",
    "window_tend = 2.02\n",
    "window_bins = 200\n",
    "tstart = np.linspace(window_tstart, window_tend, window_bins, endpoint=False) * u.s\n",
    "tend = tstart + (window_tend - window_tstart) / window_bins * u.s\n",
    "tmid = (tstart + tend) * 0.5"
   ]
  },
  {
   "cell_type": "code",
   "execution_count": 98,
   "id": "6d771015",
   "metadata": {},
   "outputs": [
    {
     "name": "stderr",
     "output_type": "stream",
     "text": [
      "/gpfs/gibbs/project/heeger/egp28/conda_envs/ROOT6/lib/python3.8/site-packages/snewpy/snowglobes.py:145: FutureWarning: Initializing this model with a filename is deprecated. Instead, use keyword arguments ['progenitor_mass']. See `Zha_2021.param`, `Zha_2021.get_param_combinations()` for more info.\n",
      "  snmodel = model_class(model_path, **snmodel_dict)\n"
     ]
    }
   ],
   "source": [
    "tarredfile = snowglobes.generate_fluence(model_path, modeltype, transformation, distance, outfile)\n",
    "snowglobes.simulate(SNOwGLoBES_path, tarredfile, detector_input=detector);\n",
    "tables = snowglobes.collate(SNOwGLoBES_path, tarredfile, skip_plots=True)"
   ]
  },
  {
   "cell_type": "code",
   "execution_count": 99,
   "id": "2abe308c",
   "metadata": {},
   "outputs": [
    {
     "name": "stdout",
     "output_type": "stream",
     "text": [
      "Super-Kamiokande\n",
      "ibd       : 433.585 events\n",
      "nue_O16   : 6.058 events\n",
      "nuebar_O16: 8.261 events\n",
      "nc        : 1.629 events\n",
      "e         : 10.457 events\n",
      "Total events: 147.1967891368194\n"
     ]
    }
   ],
   "source": [
    "print(\"Super-Kamiokande\")\n",
    "# Use results to print the number of events in different interaction channels\n",
    "key = f\"Collated_{outfile}_{detector}_events_smeared_weighted.dat\"\n",
    "total_events = 0\n",
    "for i, channel in enumerate(tables[key]['header'].split()):\n",
    "    if i == 0:\n",
    "        continue\n",
    "    n_events = sum(tables[key]['data'][i])\n",
    "    total_events += n_events\n",
    "    print(f\"{channel:10}: {n_events:.3f} events\")\n",
    "print(\"Total events:\", 0.32*total_events)\n",
    "#Super-K has 32kT inner volume\n",
    "# print(\"Total events in fiducial volume:\",0.32*total_events)"
   ]
  },
  {
   "cell_type": "code",
   "execution_count": 86,
   "id": "bddd4bee",
   "metadata": {},
   "outputs": [
    {
     "name": "stdout",
     "output_type": "stream",
     "text": [
      "IceCube\n",
      "ibd       : 12468.340 events\n",
      "nue_O16   : 250.340 events\n",
      "nuebar_O16: 272.681 events\n",
      "nc        : 7.181 events\n",
      "e         : 219.698 events\n",
      "Total events: 13218.238358616922\n"
     ]
    }
   ],
   "source": [
    "print(\"IceCube\")\n",
    "# Use results to print the number of events in different interaction channels\n",
    "key = f\"Collated_{outfile}_{detector}_events_smeared_weighted.dat\"\n",
    "total_events = 0\n",
    "for i, channel in enumerate(tables[key]['header'].split()):\n",
    "    if i == 0:\n",
    "        continue\n",
    "    n_events = sum(tables[key]['data'][i])\n",
    "    total_events += n_events\n",
    "    print(f\"{channel:10}: {n_events:.3f} events\")\n",
    "\n",
    "print(\"Total events:\",total_events)"
   ]
  },
  {
   "cell_type": "code",
   "execution_count": 91,
   "id": "1431a416",
   "metadata": {},
   "outputs": [
    {
     "name": "stdout",
     "output_type": "stream",
     "text": [
      "KM3NeT\n",
      "ibd       : 750.811 events\n",
      "nue_O16   : 19.420 events\n",
      "nuebar_O16: 20.182 events\n",
      "nc        : 0.000 events\n",
      "e         : 11.311 events\n",
      "Total events: 801.7237608046647\n"
     ]
    }
   ],
   "source": [
    "print(\"KM3NeT\")\n",
    "# Use results to print the number of events in different interaction channels\n",
    "key = f\"Collated_{outfile}_{detector}_events_smeared_weighted.dat\"\n",
    "total_events = 0\n",
    "for i, channel in enumerate(tables[key]['header'].split()):\n",
    "    if i == 0:\n",
    "        continue\n",
    "    n_events = sum(tables[key]['data'][i])\n",
    "    total_events += n_events\n",
    "    print(f\"{channel:10}: {n_events:.3f} events\")\n",
    "\n",
    "print(\"Total events:\",total_events)"
   ]
  },
  {
   "cell_type": "code",
   "execution_count": 94,
   "id": "bc520e38",
   "metadata": {},
   "outputs": [
    {
     "name": "stdout",
     "output_type": "stream",
     "text": [
      "Liquid argon detector (40 kt)\n",
      "nue_Ar40_he: 46.279 events\n",
      "nuebar_Ar40_he: 2.739 events\n",
      "nc        : 20.551 events\n",
      "e         : 6.863 events\n",
      "Total events: 76.43137306306174\n"
     ]
    }
   ],
   "source": [
    "print(\"Liquid argon detector (40 kt)\")\n",
    "# Use results to print the number of events in different interaction channels\n",
    "key = f\"Collated_{outfile}_{detector}_events_smeared_weighted.dat\"\n",
    "total_events = 0\n",
    "for i, channel in enumerate(tables[key]['header'].split()):\n",
    "    if i == 0:\n",
    "        continue\n",
    "    n_events = sum(tables[key]['data'][i])\n",
    "    total_events += n_events\n",
    "    print(f\"{channel:10}: {n_events:.3f} events\")\n",
    "\n",
    "print(\"Total events:\",total_events)"
   ]
  },
  {
   "cell_type": "code",
   "execution_count": 82,
   "id": "64291d04",
   "metadata": {},
   "outputs": [
    {
     "name": "stdout",
     "output_type": "stream",
     "text": [
      "Total Events: 459.9899334437062\n"
     ]
    },
    {
     "data": {
      "image/png": "[encoded data removed]",
      "text/plain": [
       "<Figure size 720x432 with 1 Axes>"
      ]
     },
     "metadata": {
      "needs_background": "light"
     },
     "output_type": "display_data"
    }
   ],
   "source": [
    "plt.figure(figsize=(10,6))\n",
    "nevents = np.zeros(len(tmid))\n",
    "for i in range(len(tmid)):\n",
    "    key = f\"Collated_{outfile}_{i}_{detector}_events_smeared_weighted.dat\"\n",
    "    for j in range(1,len(tables[key]['header'].split())):\n",
    "        nevents[i] += sum(tables[key]['data'][j])\n",
    "\n",
    "\n",
    "# nevents is per bin, convert to per ms\n",
    "factor = window_bins / (window_tend - window_tstart) / 1000\n",
    "\n",
    "plt.plot(tmid * u.s, nevents * factor, label=r\"20 m$_s$\")\n",
    "plt.xlabel(\"Time from bounce (s)\", fontsize=14)\n",
    "plt.ylabel(\"Counts/ms\", fontsize=14)\n",
    "plt.title(r\"Simulated SN1987A Events in Modern Detectors (20 M$_s$)\", fontsize=16)\n",
    "plt.legend(fontsize=16)\n",
    "# plt.show()\n",
    "# compare to Figure 5 of Zha et al. (2021)\n",
    "print(\"Total Events:\", sum(nevents))\n",
    "# plt.savefig('plots/kam_sim_full.png', facecolor='white', dpi=1200)"
   ]
  },
  {
   "cell_type": "code",
   "execution_count": null,
   "id": "3b48ac40",
   "metadata": {},
   "outputs": [],
   "source": []
  },
  {
   "cell_type": "code",
   "execution_count": 2,
   "id": "6f425460",
   "metadata": {},
   "outputs": [
    {
     "data": {
      "text/plain": [
       "{'progenitor_mass': <Quantity [16.  , 17.  , 18.  , 19.  , 20.  , 21.  , 22.  , 23.  , 24.  ,\n",
       "            25.  , 26.  , 19.89, 22.39, 30.  , 33.  ] solMass>}"
      ]
     },
     "execution_count": 2,
     "metadata": {},
     "output_type": "execute_result"
    }
   ],
   "source": [
    "Zha_2021.param"
   ]
  },
  {
   "cell_type": "code",
   "execution_count": 4,
   "id": "7eab50a2",
   "metadata": {},
   "outputs": [
    {
     "data": {
      "application/vnd.jupyter.widget-view+json": {
       "model_id": "37ed74a613804c4782681adb847de849",
       "version_major": 2,
       "version_minor": 0
      },
      "text/plain": [
       "s20.dat:   0%|          | 0.00/305k [00:00<?, ?iB/s]"
      ]
     },
     "metadata": {},
     "output_type": "display_data"
    }
   ],
   "source": [
    "prog = Zha_2021(progenitor_mass = 20*u.solMass)"
   ]
  },
  {
   "cell_type": "code",
   "execution_count": 16,
   "id": "3c4b9c02",
   "metadata": {},
   "outputs": [
    {
     "data": {
      "text/plain": [
       "<matplotlib.legend.Legend at 0x1479d89b59d0>"
      ]
     },
     "execution_count": 16,
     "metadata": {},
     "output_type": "execute_result"
    },
    {
     "data": {
      "image/png": "[encoded data removed]",
      "text/plain": [
       "<Figure size 720x504 with 1 Axes>"
      ]
     },
     "metadata": {
      "needs_background": "light"
     },
     "output_type": "display_data"
    }
   ],
   "source": [
    "plt.figure(figsize=(10,7))\n",
    "\n",
    "for flavor in Flavor:\n",
    "    plt.plot(prog.time, prog.luminosity[flavor]/1e51,\n",
    "            label=flavor.to_tex(),\n",
    "            color='C0' if flavor.is_electron else 'C1',\n",
    "            ls='-' if flavor.is_neutrino else ':',\n",
    "            lw=2)\n",
    "plt.xlabel(r'$t-t_{\\rm bounce}$ [s]', fontsize=18)\n",
    "plt.ylabel(r'luminosity [foe s$^{-1}$]', fontsize=18)\n",
    "plt.xlim(0,1)\n",
    "plt.legend(ncol=2, fontsize=18)"
   ]
  },
  {
   "cell_type": "code",
   "execution_count": null,
   "id": "b54e0912",
   "metadata": {},
   "outputs": [],
   "source": []
  }
 ],
 "metadata": {
  "kernelspec": {
   "display_name": "Python 3 (ipykernel)",
   "language": "python",
   "name": "python3"
  },
  "language_info": {
   "codemirror_mode": {
    "name": "ipython",
    "version": 3
   },
   "file_extension": ".py",
   "mimetype": "text/x-python",
   "name": "python",
   "nbconvert_exporter": "python",
   "pygments_lexer": "ipython3",
   "version": "3.8.10"
  }
 },
 "nbformat": 4,
 "nbformat_minor": 5
}
